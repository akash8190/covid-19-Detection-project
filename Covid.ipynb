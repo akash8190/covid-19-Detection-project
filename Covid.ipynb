{
 "cells": [
  {
   "cell_type": "code",
   "execution_count": 1,
   "metadata": {},
   "outputs": [],
   "source": [
    "import tensorflow \n",
    "from tensorflow.keras.layers import *\n",
    "from tensorflow.keras.preprocessing import image  \n",
    "from tensorflow.keras.models import *\n",
    "import numpy as np\n",
    "import matplotlib.pyplot as plt"
   ]
  },
  {
   "cell_type": "code",
   "execution_count": 2,
   "metadata": {},
   "outputs": [],
   "source": [
    "covid = load_model('covid.h5')"
   ]
  },
  {
   "cell_type": "code",
   "execution_count": 3,
   "metadata": {},
   "outputs": [],
   "source": [
    "def output(model,img_path,size):\n",
    "    img_path=img_path\n",
    "    img = image.load_img(img_path,target_size=size)\n",
    "    img_arr = image.img_to_array(img,dtype='double')\n",
    "    img_arr=img_arr/255\n",
    "    img_arr=np.expand_dims(img_arr,axis=0)\n",
    "    result=model.predict_classes(img_arr)\n",
    "    \n",
    "    if result==1:\n",
    "        print(\"Positive\")\n",
    "    elif result==0:\n",
    "        print(\"Negative\")"
   ]
  },
  {
   "cell_type": "code",
   "execution_count": 4,
   "metadata": {},
   "outputs": [
    {
     "name": "stdout",
     "output_type": "stream",
     "text": [
      "Negative\n"
     ]
    }
   ],
   "source": [
    "output(covid,'NORMAL1.jpeg',(224,224))"
   ]
  },
  {
   "cell_type": "code",
   "execution_count": 15,
   "metadata": {},
   "outputs": [],
   "source": [
    "\n",
    "def model_predict(img_path, model):\n",
    "    img = image.load_img(img_path, target_size=(224, 224))\n",
    "\n",
    "    # Preprocessing the image\n",
    "    x = image.img_to_array(img,dtype='double')\n",
    "    \n",
    "    x=x/255\n",
    "    x = np.expand_dims(x, axis=0)\n",
    "    #x = preprocess_input(x)\n",
    "\n",
    "    preds = model.predict_classes(x)\n",
    "    \n",
    "    if preds==0:\n",
    "        print(\"Negative\")\n",
    "    elif preds==1:\n",
    "        print(\"Positive\")"
   ]
  },
  {
   "cell_type": "code",
   "execution_count": 16,
   "metadata": {},
   "outputs": [
    {
     "name": "stdout",
     "output_type": "stream",
     "text": [
      "Negative\n"
     ]
    }
   ],
   "source": [
    "img_path='NORMAL1.jpeg'\n",
    "model=load_model('covid.h5')\n",
    "model_predict(img_path,model)"
   ]
  },
  {
   "cell_type": "code",
   "execution_count": null,
   "metadata": {},
   "outputs": [],
   "source": []
  }
 ],
 "metadata": {
  "kernelspec": {
   "display_name": "Python 3",
   "language": "python",
   "name": "python3"
  },
  "language_info": {
   "codemirror_mode": {
    "name": "ipython",
    "version": 3
   },
   "file_extension": ".py",
   "mimetype": "text/x-python",
   "name": "python",
   "nbconvert_exporter": "python",
   "pygments_lexer": "ipython3",
   "version": "3.6.9"
  }
 },
 "nbformat": 4,
 "nbformat_minor": 4
}
